{
 "cells": [
  {
   "cell_type": "markdown",
   "metadata": {},
   "source": [
    "# 1. Import Dependencies"
   ]
  },
  {
   "cell_type": "code",
   "execution_count": 1,
   "metadata": {},
   "outputs": [
    {
     "name": "stdout",
     "output_type": "stream",
     "text": [
      "Requirement already satisfied: opencv-python in d:\\github\\museum_object_detection\\tfod\\lib\\site-packages (4.8.1.78)\n",
      "Requirement already satisfied: numpy>=1.21.2 in d:\\github\\museum_object_detection\\tfod\\lib\\site-packages (from opencv-python) (1.26.1)\n"
     ]
    }
   ],
   "source": [
    "!pip install opencv-python"
   ]
  },
  {
   "cell_type": "code",
   "execution_count": 2,
   "metadata": {},
   "outputs": [],
   "source": [
    "# Import opencv\n",
    "import cv2 \n",
    "\n",
    "# Import uuid\n",
    "import uuid\n",
    "\n",
    "# Import Operating System\n",
    "import os\n",
    "\n",
    "# Import time\n",
    "import time"
   ]
  },
  {
   "cell_type": "markdown",
   "metadata": {},
   "source": [
    "# 1.x. Testing Microscope Positioning"
   ]
  },
  {
   "cell_type": "code",
   "execution_count": 3,
   "metadata": {},
   "outputs": [],
   "source": [
    "# opens the camera feed view\n",
    "cap = cv2.VideoCapture(0) # the num in the brackets can be used to change the device\n",
    "while cap.isOpened():\n",
    "    ret, frame = cap.read()\n",
    "    \n",
    "    cv2.imshow('Microscope feed.',frame)\n",
    "    if cv2.waitKey(1) & 0xFF == ord('q'):\n",
    "        break\n",
    "cap.release()\n",
    "cv2.destroyAllWindows()"
   ]
  },
  {
   "cell_type": "markdown",
   "metadata": {},
   "source": [
    "# 2. Define Images to Collect"
   ]
  },
  {
   "cell_type": "code",
   "execution_count": 4,
   "metadata": {},
   "outputs": [],
   "source": [
    "labels = ['left', 'right', 'up', 'down']\n",
    "number_imgs = 5"
   ]
  },
  {
   "cell_type": "markdown",
   "metadata": {},
   "source": [
    "# 3. Setup Folders "
   ]
  },
  {
   "cell_type": "code",
   "execution_count": 5,
   "metadata": {},
   "outputs": [],
   "source": [
    "IMAGES_PATH = os.path.join('Tensorflow','webDirection', 'workspace', 'images', 'collectedimages')"
   ]
  },
  {
   "cell_type": "code",
   "execution_count": 6,
   "metadata": {},
   "outputs": [
    {
     "name": "stdout",
     "output_type": "stream",
     "text": [
      "Tensorflow\\webDirection\\workspace\\images\\collectedimages\n"
     ]
    }
   ],
   "source": [
    "print(IMAGES_PATH)"
   ]
  },
  {
   "cell_type": "code",
   "execution_count": 7,
   "metadata": {},
   "outputs": [],
   "source": [
    "if not os.path.exists(IMAGES_PATH):\n",
    "    if os.name == 'posix':\n",
    "        !mkdir -p {IMAGES_PATH}\n",
    "    if os.name == 'nt':\n",
    "         !mkdir {IMAGES_PATH}\n",
    "for label in labels:\n",
    "    path = os.path.join(IMAGES_PATH, label)\n",
    "    if not os.path.exists(path):\n",
    "        !mkdir {path}"
   ]
  },
  {
   "cell_type": "markdown",
   "metadata": {},
   "source": [
    "# 4. Capture Images"
   ]
  },
  {
   "cell_type": "code",
   "execution_count": 9,
   "metadata": {},
   "outputs": [
    {
     "name": "stdout",
     "output_type": "stream",
     "text": [
      "Collecting images for left\n",
      "Collecting image 0\n",
      "Collecting image 1\n",
      "Collecting image 2\n",
      "Collecting image 3\n",
      "Collecting image 4\n",
      "Collecting images for right\n",
      "Collecting image 0\n",
      "Collecting image 1\n",
      "Collecting image 2\n",
      "Collecting image 3\n",
      "Collecting image 4\n",
      "Collecting images for up\n",
      "Collecting image 0\n",
      "Collecting image 1\n",
      "Collecting image 2\n",
      "Collecting image 3\n",
      "Collecting image 4\n",
      "Collecting images for down\n",
      "Collecting image 0\n",
      "Collecting image 1\n",
      "Collecting image 2\n",
      "Collecting image 3\n",
      "Collecting image 4\n"
     ]
    }
   ],
   "source": [
    "for label in labels:\n",
    "    cap = cv2.VideoCapture(0)\n",
    "    print('Collecting images for {}'.format(label))\n",
    "    time.sleep(5)\n",
    "    for imgnum in range(number_imgs):\n",
    "        print('Collecting image {}'.format(imgnum))\n",
    "        ret, frame = cap.read()\n",
    "        imgname = os.path.join(IMAGES_PATH,label,label+'.'+'{}.jpg'.format(str(uuid.uuid1())))\n",
    "        cv2.imwrite(imgname, frame)\n",
    "        cv2.imshow('frame', frame)\n",
    "        time.sleep(3) # time to sleep between each capture\n",
    "\n",
    "        if cv2.waitKey(1) & 0xFF == ord('q'):\n",
    "            break\n",
    "cap.release()\n",
    "cv2.destroyAllWindows()"
   ]
  },
  {
   "cell_type": "markdown",
   "metadata": {},
   "source": [
    "# 5. Image Labelling"
   ]
  },
  {
   "cell_type": "code",
   "execution_count": 10,
   "metadata": {},
   "outputs": [
    {
     "name": "stdout",
     "output_type": "stream",
     "text": [
      "Requirement already satisfied: pyqt5 in d:\\github\\museum_object_detection\\tfod\\lib\\site-packages (5.15.10)\n",
      "Requirement already satisfied: lxml in d:\\github\\museum_object_detection\\tfod\\lib\\site-packages (4.9.3)\n",
      "Requirement already satisfied: PyQt5-sip<13,>=12.13 in d:\\github\\museum_object_detection\\tfod\\lib\\site-packages (from pyqt5) (12.13.0)\n",
      "Requirement already satisfied: PyQt5-Qt5>=5.15.2 in d:\\github\\museum_object_detection\\tfod\\lib\\site-packages (from pyqt5) (5.15.2)\n"
     ]
    }
   ],
   "source": [
    "!pip install --upgrade pyqt5 lxml"
   ]
  },
  {
   "cell_type": "code",
   "execution_count": 11,
   "metadata": {},
   "outputs": [
    {
     "name": "stdout",
     "output_type": "stream",
     "text": [
      "Package                      Version      Editable project location\n",
      "---------------------------- ------------ -----------------------------------------------------------------\n",
      "absl-py                      2.0.0\n",
      "apache-beam                  2.52.0rc4\n",
      "asttokens                    2.4.0\n",
      "astunparse                   1.6.3\n",
      "avro-python3                 1.10.2\n",
      "backcall                     0.2.0\n",
      "cachetools                   5.3.2\n",
      "certifi                      2023.7.22\n",
      "charset-normalizer           3.3.1\n",
      "chex                         0.1.84\n",
      "colorama                     0.4.6\n",
      "comm                         0.1.4\n",
      "contextlib2                  21.6.0\n",
      "contourpy                    1.1.1\n",
      "cycler                       0.12.1\n",
      "Cython                       3.0.4\n",
      "debugpy                      1.8.0\n",
      "decorator                    5.1.1\n",
      "etils                        1.5.2\n",
      "exceptiongroup               1.1.3\n",
      "executing                    2.0.0\n",
      "flatbuffers                  23.5.26\n",
      "flax                         0.7.5\n",
      "fonttools                    4.43.1\n",
      "fsspec                       2023.10.0\n",
      "gast                         0.4.0\n",
      "gin                          0.1.6\n",
      "gin-config                   0.5.0\n",
      "google-auth                  2.23.3\n",
      "google-auth-oauthlib         0.4.6\n",
      "google-pasta                 0.2.0\n",
      "grpcio                       1.59.0\n",
      "h5py                         3.10.0\n",
      "idna                         3.4\n",
      "importlib-resources          6.1.0\n",
      "ipykernel                    6.25.2\n",
      "ipython                      8.16.1\n",
      "jax                          0.4.19\n",
      "jaxlib                       0.4.19\n",
      "jedi                         0.19.1\n",
      "jupyter_client               8.4.0\n",
      "jupyter_core                 5.4.0\n",
      "keras                        2.10.0\n",
      "Keras-Preprocessing          1.1.2\n",
      "kiwisolver                   1.4.5\n",
      "libclang                     16.0.6\n",
      "lvis                         0.5.3\n",
      "lxml                         4.9.3\n",
      "Markdown                     3.5\n",
      "markdown-it-py               3.0.0\n",
      "MarkupSafe                   2.1.3\n",
      "matplotlib                   3.8.0\n",
      "matplotlib-inline            0.1.6\n",
      "mdurl                        0.1.2\n",
      "ml-dtypes                    0.3.1\n",
      "msgpack                      1.0.7\n",
      "nest-asyncio                 1.5.8\n",
      "numpy                        1.26.1\n",
      "oauthlib                     3.2.2\n",
      "object-detection             0.1\n",
      "opencv-python                4.8.1.78\n",
      "opt-einsum                   3.3.0\n",
      "optax                        0.1.7\n",
      "orbax-checkpoint             0.4.1\n",
      "packaging                    20.9\n",
      "pandas                       2.1.2\n",
      "parso                        0.8.3\n",
      "pickleshare                  0.7.5\n",
      "Pillow                       10.1.0\n",
      "pip                          23.3.1\n",
      "platformdirs                 3.11.0\n",
      "portalocker                  2.8.2\n",
      "prompt-toolkit               3.0.39\n",
      "protobuf                     3.19.6\n",
      "psutil                       5.9.6\n",
      "pure-eval                    0.2.2\n",
      "pyasn1                       0.5.0\n",
      "pyasn1-modules               0.3.0\n",
      "pycocotools                  2.0.7\n",
      "Pygments                     2.16.1\n",
      "pyparsing                    2.4.7\n",
      "PyQt5                        5.15.10\n",
      "PyQt5-Qt5                    5.15.2\n",
      "PyQt5-sip                    12.13.0\n",
      "python-dateutil              2.8.2\n",
      "pytz                         2023.3.post1\n",
      "pywin32                      306\n",
      "PyYAML                       6.0.1\n",
      "pyzmq                        25.1.1\n",
      "regex                        2023.10.3\n",
      "requests                     2.31.0\n",
      "requests-oauthlib            1.3.1\n",
      "rich                         13.6.0\n",
      "rsa                          4.9\n",
      "sacrebleu                    2.2.0\n",
      "scipy                        1.11.3\n",
      "setuptools                   68.2.2\n",
      "six                          1.16.0\n",
      "slim                         0.1          d:\\github\\museum_object_detection\\tensorflow\\models\\research\\slim\n",
      "stack-data                   0.6.3\n",
      "tabulate                     0.9.0\n",
      "tensorboard                  2.10.1\n",
      "tensorboard-data-server      0.6.1\n",
      "tensorboard-plugin-wit       1.8.1\n",
      "tensorflow                   2.10.0\n",
      "tensorflow-estimator         2.10.0\n",
      "tensorflow-gpu               2.10.0\n",
      "tensorflow-hub               0.12.0\n",
      "tensorflow-intel             2.14.0\n",
      "tensorflow-io                0.31.0\n",
      "tensorflow-io-gcs-filesystem 0.31.0\n",
      "tensorflowjs                 3.21.0\n",
      "tensorstore                  0.1.46\n",
      "termcolor                    2.3.0\n",
      "tf-models-official           2.14.2\n",
      "tf-slim                      1.1.0\n",
      "toolz                        0.12.0\n",
      "tornado                      6.3.3\n",
      "traitlets                    5.11.2\n",
      "typing_extensions            4.8.0\n",
      "tzdata                       2023.3\n",
      "urllib3                      2.0.7\n",
      "wcwidth                      0.2.8\n",
      "Werkzeug                     3.0.1\n",
      "wget                         3.2\n",
      "wheel                        0.41.2\n",
      "wrapt                        1.14.1\n",
      "zipp                         3.17.0\n",
      "Note: you may need to restart the kernel to use updated packages.\n"
     ]
    }
   ],
   "source": [
    "pip list"
   ]
  },
  {
   "cell_type": "code",
   "execution_count": 12,
   "metadata": {},
   "outputs": [],
   "source": [
    "LABELIMG_PATH = os.path.join('Tensorflow', 'labelimg')"
   ]
  },
  {
   "cell_type": "code",
   "execution_count": 13,
   "metadata": {},
   "outputs": [],
   "source": [
    "if not os.path.exists(LABELIMG_PATH):\n",
    "    !mkdir {LABELIMG_PATH}\n",
    "    !git clone https://github.com/tzutalin/labelImg {LABELIMG_PATH}"
   ]
  },
  {
   "cell_type": "code",
   "execution_count": 14,
   "metadata": {},
   "outputs": [],
   "source": [
    "if os.name == 'posix':\n",
    "    !make qt5py3\n",
    "if os.name =='nt':\n",
    "    !cd {LABELIMG_PATH} && pyrcc5 -o libs/resources.py resources.qrc"
   ]
  },
  {
   "cell_type": "code",
   "execution_count": 15,
   "metadata": {},
   "outputs": [
    {
     "name": "stdout",
     "output_type": "stream",
     "text": [
      "Image:D:\\GitHub\\Museum_Object_Detection\\Tensorflow\\webDirection\\workspace\\images\\collectedimages\\down\\down.c3ec204a-81d3-11ee-9dbc-c809a8702b77.jpg -> Annotation:D:/GitHub/Museum_Object_Detection/Tensorflow/webDirection/workspace/images/collectedimages/down/down.c3ec204a-81d3-11ee-9dbc-c809a8702b77.xml\n",
      "Image:D:\\GitHub\\Museum_Object_Detection\\Tensorflow\\webDirection\\workspace\\images\\collectedimages\\down\\down.c5c864e4-81d3-11ee-96e1-c809a8702b77.jpg -> Annotation:D:/GitHub/Museum_Object_Detection/Tensorflow/webDirection/workspace/images/collectedimages/down/down.c5c864e4-81d3-11ee-96e1-c809a8702b77.xml\n",
      "Image:D:\\GitHub\\Museum_Object_Detection\\Tensorflow\\webDirection\\workspace\\images\\collectedimages\\down\\down.c96a84c2-81d3-11ee-b77c-c809a8702b77.jpg -> Annotation:D:/GitHub/Museum_Object_Detection/Tensorflow/webDirection/workspace/images/collectedimages/down/down.c96a84c2-81d3-11ee-b77c-c809a8702b77.xml\n",
      "Image:D:\\GitHub\\Museum_Object_Detection\\Tensorflow\\webDirection\\workspace\\images\\collectedimages\\down\\down.c798e54a-81d3-11ee-abaf-c809a8702b77.jpg -> Annotation:D:/GitHub/Museum_Object_Detection/Tensorflow/webDirection/workspace/images/collectedimages/down/down.c798e54a-81d3-11ee-abaf-c809a8702b77.xml\n",
      "Image:D:\\GitHub\\Museum_Object_Detection\\Tensorflow\\webDirection\\workspace\\images\\collectedimages\\down\\down.cb39dcfb-81d3-11ee-9726-c809a8702b77.jpg -> Annotation:D:/GitHub/Museum_Object_Detection/Tensorflow/webDirection/workspace/images/collectedimages/down/down.cb39dcfb-81d3-11ee-9726-c809a8702b77.xml\n",
      "Image:D:\\GitHub\\Museum_Object_Detection\\Tensorflow\\webDirection\\workspace\\images\\collectedimages\\left\\left.8b4c4fb9-81d3-11ee-b35e-c809a8702b77.jpg -> Annotation:D:/GitHub/Museum_Object_Detection/Tensorflow/webDirection/workspace/images/collectedimages/left/left.8b4c4fb9-81d3-11ee-b35e-c809a8702b77.xml\n",
      "Image:D:\\GitHub\\Museum_Object_Detection\\Tensorflow\\webDirection\\workspace\\images\\collectedimages\\left\\left.83b1a7cb-81d3-11ee-8c77-c809a8702b77.jpg -> Annotation:D:/GitHub/Museum_Object_Detection/Tensorflow/webDirection/workspace/images/collectedimages/left/left.83b1a7cb-81d3-11ee-8c77-c809a8702b77.xml\n",
      "Image:D:\\GitHub\\Museum_Object_Detection\\Tensorflow\\webDirection\\workspace\\images\\collectedimages\\left\\left.85dda787-81d3-11ee-8938-c809a8702b77.jpg -> Annotation:D:/GitHub/Museum_Object_Detection/Tensorflow/webDirection/workspace/images/collectedimages/left/left.85dda787-81d3-11ee-8938-c809a8702b77.xml\n",
      "Image:D:\\GitHub\\Museum_Object_Detection\\Tensorflow\\webDirection\\workspace\\images\\collectedimages\\left\\left.87ac3d99-81d3-11ee-bcc4-c809a8702b77.jpg -> Annotation:D:/GitHub/Museum_Object_Detection/Tensorflow/webDirection/workspace/images/collectedimages/left/left.87ac3d99-81d3-11ee-bcc4-c809a8702b77.xml\n",
      "Image:D:\\GitHub\\Museum_Object_Detection\\Tensorflow\\webDirection\\workspace\\images\\collectedimages\\left\\left.897ddcbd-81d3-11ee-ab6d-c809a8702b77.jpg -> Annotation:D:/GitHub/Museum_Object_Detection/Tensorflow/webDirection/workspace/images/collectedimages/left/left.897ddcbd-81d3-11ee-ab6d-c809a8702b77.xml\n",
      "Image:D:\\GitHub\\Museum_Object_Detection\\Tensorflow\\webDirection\\workspace\\images\\collectedimages\\right\\right.9af93a96-81d3-11ee-967f-c809a8702b77.jpg -> Annotation:D:/GitHub/Museum_Object_Detection/Tensorflow/webDirection/workspace/images/collectedimages/right/right.9af93a96-81d3-11ee-967f-c809a8702b77.xml\n",
      "Image:D:\\GitHub\\Museum_Object_Detection\\Tensorflow\\webDirection\\workspace\\images\\collectedimages\\right\\right.9ccb367d-81d3-11ee-b15c-c809a8702b77.jpg -> Annotation:D:/GitHub/Museum_Object_Detection/Tensorflow/webDirection/workspace/images/collectedimages/right/right.9ccb367d-81d3-11ee-b15c-c809a8702b77.xml\n",
      "Image:D:\\GitHub\\Museum_Object_Detection\\Tensorflow\\webDirection\\workspace\\images\\collectedimages\\right\\right.9e991121-81d3-11ee-86c0-c809a8702b77.jpg -> Annotation:D:/GitHub/Museum_Object_Detection/Tensorflow/webDirection/workspace/images/collectedimages/right/right.9e991121-81d3-11ee-86c0-c809a8702b77.xml\n",
      "Image:D:\\GitHub\\Museum_Object_Detection\\Tensorflow\\webDirection\\workspace\\images\\collectedimages\\right\\right.a235972b-81d3-11ee-a44a-c809a8702b77.jpg -> Annotation:D:/GitHub/Museum_Object_Detection/Tensorflow/webDirection/workspace/images/collectedimages/right/right.a235972b-81d3-11ee-a44a-c809a8702b77.xml\n",
      "Image:D:\\GitHub\\Museum_Object_Detection\\Tensorflow\\webDirection\\workspace\\images\\collectedimages\\right\\right.a0673373-81d3-11ee-b55d-c809a8702b77.jpg -> Annotation:D:/GitHub/Museum_Object_Detection/Tensorflow/webDirection/workspace/images/collectedimages/right/right.a0673373-81d3-11ee-b55d-c809a8702b77.xml\n",
      "Image:D:\\GitHub\\Museum_Object_Detection\\Tensorflow\\webDirection\\workspace\\images\\collectedimages\\up\\up.af78ca84-81d3-11ee-9614-c809a8702b77.jpg -> Annotation:D:/GitHub/Museum_Object_Detection/Tensorflow/webDirection/workspace/images/collectedimages/up/up.af78ca84-81d3-11ee-9614-c809a8702b77.xml\n",
      "Image:D:\\GitHub\\Museum_Object_Detection\\Tensorflow\\webDirection\\workspace\\images\\collectedimages\\up\\up.b4e45de5-81d3-11ee-aa77-c809a8702b77.jpg -> Annotation:D:/GitHub/Museum_Object_Detection/Tensorflow/webDirection/workspace/images/collectedimages/up/up.b4e45de5-81d3-11ee-aa77-c809a8702b77.xml\n",
      "Image:D:\\GitHub\\Museum_Object_Detection\\Tensorflow\\webDirection\\workspace\\images\\collectedimages\\up\\up.b6b38cd1-81d3-11ee-9a45-c809a8702b77.jpg -> Annotation:D:/GitHub/Museum_Object_Detection/Tensorflow/webDirection/workspace/images/collectedimages/up/up.b6b38cd1-81d3-11ee-9a45-c809a8702b77.xml\n",
      "Image:D:\\GitHub\\Museum_Object_Detection\\Tensorflow\\webDirection\\workspace\\images\\collectedimages\\up\\up.b1462f44-81d3-11ee-b86f-c809a8702b77.jpg -> Annotation:D:/GitHub/Museum_Object_Detection/Tensorflow/webDirection/workspace/images/collectedimages/up/up.b1462f44-81d3-11ee-b86f-c809a8702b77.xml\n",
      "Image:D:\\GitHub\\Museum_Object_Detection\\Tensorflow\\webDirection\\workspace\\images\\collectedimages\\up\\up.b3148768-81d3-11ee-b600-c809a8702b77.jpg -> Annotation:D:/GitHub/Museum_Object_Detection/Tensorflow/webDirection/workspace/images/collectedimages/up/up.b3148768-81d3-11ee-b600-c809a8702b77.xml\n"
     ]
    },
    {
     "name": "stderr",
     "output_type": "stream",
     "text": [
      "Warning: QT_DEVICE_PIXEL_RATIO is deprecated. Instead use:\n",
      "   QT_AUTO_SCREEN_SCALE_FACTOR to enable platform plugin controlled per-screen factors.\n",
      "   QT_SCREEN_SCALE_FACTORS to set per-screen DPI.\n",
      "   QT_SCALE_FACTOR to set the application global scale factor.\n"
     ]
    }
   ],
   "source": [
    "!cd {LABELIMG_PATH} && python labelImg.py"
   ]
  },
  {
   "cell_type": "markdown",
   "metadata": {},
   "source": [
    "# 6. Move them into a Training and Testing Partition"
   ]
  },
  {
   "cell_type": "markdown",
   "metadata": {},
   "source": [
    "# OPTIONAL - 7. Compress them for Colab Training"
   ]
  },
  {
   "cell_type": "code",
   "execution_count": 4,
   "metadata": {},
   "outputs": [],
   "source": [
    "TRAIN_PATH = os.path.join('Tensorflow', 'workspace', 'images', 'train')\n",
    "TEST_PATH = os.path.join('Tensorflow', 'workspace', 'images', 'test')\n",
    "ARCHIVE_PATH = os.path.join('Tensorflow', 'workspace', 'images', 'archive.tar.gz')"
   ]
  },
  {
   "cell_type": "code",
   "execution_count": 6,
   "metadata": {},
   "outputs": [],
   "source": [
    "!tar -czf {ARCHIVE_PATH} {TRAIN_PATH} {TEST_PATH}"
   ]
  },
  {
   "cell_type": "code",
   "execution_count": null,
   "metadata": {},
   "outputs": [],
   "source": []
  }
 ],
 "metadata": {
  "kernelspec": {
   "display_name": "tfod",
   "language": "python",
   "name": "tfod"
  },
  "language_info": {
   "codemirror_mode": {
    "name": "ipython",
    "version": 3
   },
   "file_extension": ".py",
   "mimetype": "text/x-python",
   "name": "python",
   "nbconvert_exporter": "python",
   "pygments_lexer": "ipython3",
   "version": "3.10.0"
  }
 },
 "nbformat": 4,
 "nbformat_minor": 2
}

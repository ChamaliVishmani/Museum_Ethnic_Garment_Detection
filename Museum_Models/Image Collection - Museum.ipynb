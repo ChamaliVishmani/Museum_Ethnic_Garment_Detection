{
 "cells": [
  {
   "cell_type": "markdown",
   "metadata": {},
   "source": [
    "# 1. Import Dependencies"
   ]
  },
  {
   "cell_type": "code",
   "execution_count": 11,
   "metadata": {},
   "outputs": [
    {
     "name": "stdout",
     "output_type": "stream",
     "text": [
      "Requirement already satisfied: opencv-python in c:\\python310\\lib\\site-packages (4.8.1.78)\n",
      "Requirement already satisfied: numpy>=1.21.2 in c:\\users\\asus\\appdata\\roaming\\python\\python310\\site-packages (from opencv-python) (1.25.2)\n"
     ]
    },
    {
     "name": "stderr",
     "output_type": "stream",
     "text": [
      "WARNING: Ignoring invalid distribution - (c:\\python310\\lib\\site-packages)\n",
      "WARNING: Ignoring invalid distribution -p (c:\\python310\\lib\\site-packages)\n",
      "WARNING: Ignoring invalid distribution -ip (c:\\python310\\lib\\site-packages)\n",
      "WARNING: Ignoring invalid distribution -p (c:\\python310\\lib\\site-packages)\n",
      "WARNING: Ignoring invalid distribution - (c:\\python310\\lib\\site-packages)\n",
      "WARNING: Ignoring invalid distribution -p (c:\\python310\\lib\\site-packages)\n",
      "WARNING: Ignoring invalid distribution -ip (c:\\python310\\lib\\site-packages)\n",
      "WARNING: Ignoring invalid distribution -p (c:\\python310\\lib\\site-packages)\n",
      "\n",
      "[notice] A new release of pip is available: 23.1.2 -> 23.3.1\n",
      "[notice] To update, run: python.exe -m pip install --upgrade pip\n"
     ]
    }
   ],
   "source": [
    "!pip install opencv-python"
   ]
  },
  {
   "cell_type": "code",
   "execution_count": 12,
   "metadata": {},
   "outputs": [],
   "source": [
    "# Import opencv\n",
    "import cv2 \n",
    "\n",
    "# Import uuid\n",
    "import uuid\n",
    "\n",
    "# Import Operating System\n",
    "import os\n",
    "\n",
    "# Import time\n",
    "import time"
   ]
  },
  {
   "cell_type": "markdown",
   "metadata": {},
   "source": [
    "# 2. Define Images to Collect"
   ]
  },
  {
   "cell_type": "code",
   "execution_count": 13,
   "metadata": {},
   "outputs": [],
   "source": [
    "labels = ['1', '2', '3', '4', '5']\n",
    "number_imgs = 5"
   ]
  },
  {
   "cell_type": "markdown",
   "metadata": {},
   "source": [
    "# 3. Setup Folders "
   ]
  },
  {
   "cell_type": "code",
   "execution_count": 14,
   "metadata": {},
   "outputs": [],
   "source": [
    "IMAGES_PATH = os.path.join('Tensorflow', 'workspace', 'images', 'collectedimages')"
   ]
  },
  {
   "cell_type": "code",
   "execution_count": 15,
   "metadata": {},
   "outputs": [
    {
     "name": "stdout",
     "output_type": "stream",
     "text": [
      "Tensorflow\\workspace\\images\\collectedimages\n"
     ]
    }
   ],
   "source": [
    "print(IMAGES_PATH)"
   ]
  },
  {
   "cell_type": "code",
   "execution_count": 16,
   "metadata": {},
   "outputs": [],
   "source": [
    "if not os.path.exists(IMAGES_PATH):\n",
    "    if os.name == 'posix':\n",
    "        !mkdir -p {IMAGES_PATH}\n",
    "    if os.name == 'nt':\n",
    "         !mkdir {IMAGES_PATH}\n",
    "for label in labels:\n",
    "    path = os.path.join(IMAGES_PATH, label)\n",
    "    if not os.path.exists(path):\n",
    "        !mkdir {path}"
   ]
  },
  {
   "cell_type": "markdown",
   "metadata": {},
   "source": [
    "# 4. Capture Images"
   ]
  },
  {
   "cell_type": "code",
   "execution_count": null,
   "metadata": {},
   "outputs": [],
   "source": [
    "for label in labels:\n",
    "    cap = cv2.VideoCapture(0)\n",
    "    print('Collecting images for {}'.format(label))\n",
    "    time.sleep(5)\n",
    "    for imgnum in range(number_imgs):\n",
    "        print('Collecting image {}'.format(imgnum))\n",
    "        ret, frame = cap.read()\n",
    "        imgname = os.path.join(IMAGES_PATH,label,label+'.'+'{}.jpg'.format(str(uuid.uuid1())))\n",
    "        cv2.imwrite(imgname, frame)\n",
    "        cv2.imshow('frame', frame)\n",
    "        time.sleep(2)\n",
    "\n",
    "        if cv2.waitKey(1) & 0xFF == ord('q'):\n",
    "            break\n",
    "cap.release()\n",
    "cv2.destroyAllWindows()"
   ]
  },
  {
   "cell_type": "markdown",
   "metadata": {},
   "source": [
    "# 5. Image Labelling"
   ]
  },
  {
   "cell_type": "code",
   "execution_count": 17,
   "metadata": {},
   "outputs": [
    {
     "name": "stdout",
     "output_type": "stream",
     "text": [
      "Collecting pyqt5\n",
      "  Downloading PyQt5-5.15.10-cp37-abi3-win_amd64.whl (6.8 MB)\n",
      "                                              0.0/6.8 MB ? eta -:--:--\n",
      "                                              0.0/6.8 MB 991.0 kB/s eta 0:00:07\n",
      "     -                                        0.2/6.8 MB 2.0 MB/s eta 0:00:04\n",
      "     --                                       0.4/6.8 MB 3.3 MB/s eta 0:00:02\n",
      "     ----                                     0.8/6.8 MB 4.4 MB/s eta 0:00:02\n",
      "     ------                                   1.1/6.8 MB 5.1 MB/s eta 0:00:02\n",
      "     -------                                  1.3/6.8 MB 5.3 MB/s eta 0:00:02\n",
      "     --------                                 1.5/6.8 MB 4.9 MB/s eta 0:00:02\n",
      "     ----------                               1.7/6.8 MB 4.8 MB/s eta 0:00:02\n",
      "     ------------                             2.1/6.8 MB 5.1 MB/s eta 0:00:01\n",
      "     --------------                           2.5/6.8 MB 5.4 MB/s eta 0:00:01\n",
      "     ----------------                         2.9/6.8 MB 5.7 MB/s eta 0:00:01\n",
      "     -------------------                      3.3/6.8 MB 6.0 MB/s eta 0:00:01\n",
      "     ---------------------                    3.7/6.8 MB 6.2 MB/s eta 0:00:01\n",
      "     -----------------------                  4.1/6.8 MB 6.3 MB/s eta 0:00:01\n",
      "     -------------------------                4.3/6.8 MB 6.3 MB/s eta 0:00:01\n",
      "     ---------------------------              4.7/6.8 MB 6.5 MB/s eta 0:00:01\n",
      "     ----------------------------             4.8/6.8 MB 6.4 MB/s eta 0:00:01\n",
      "     -----------------------------            5.0/6.8 MB 5.9 MB/s eta 0:00:01\n",
      "     -----------------------------            5.1/6.8 MB 5.7 MB/s eta 0:00:01\n",
      "     -------------------------------          5.4/6.8 MB 5.8 MB/s eta 0:00:01\n",
      "     --------------------------------         5.5/6.8 MB 5.7 MB/s eta 0:00:01\n",
      "     ----------------------------------       5.9/6.8 MB 5.7 MB/s eta 0:00:01\n",
      "     -----------------------------------      6.1/6.8 MB 5.7 MB/s eta 0:00:01\n",
      "     ------------------------------------     6.2/6.8 MB 5.6 MB/s eta 0:00:01\n",
      "     -------------------------------------    6.4/6.8 MB 5.5 MB/s eta 0:00:01\n",
      "     --------------------------------------   6.6/6.8 MB 5.5 MB/s eta 0:00:01\n",
      "     ---------------------------------------  6.8/6.8 MB 5.5 MB/s eta 0:00:01\n",
      "     ---------------------------------------  6.8/6.8 MB 5.5 MB/s eta 0:00:01\n",
      "     ---------------------------------------- 6.8/6.8 MB 5.1 MB/s eta 0:00:00\n",
      "Collecting lxml\n",
      "  Downloading lxml-4.9.3-cp310-cp310-win_amd64.whl (3.8 MB)\n",
      "                                              0.0/3.8 MB ? eta -:--:--\n",
      "     ---                                      0.3/3.8 MB 6.5 MB/s eta 0:00:01\n",
      "     ------                                   0.7/3.8 MB 6.9 MB/s eta 0:00:01\n",
      "     ----------                               1.0/3.8 MB 7.0 MB/s eta 0:00:01\n",
      "     -------------                            1.3/3.8 MB 7.0 MB/s eta 0:00:01\n",
      "     ----------------                         1.6/3.8 MB 6.8 MB/s eta 0:00:01\n",
      "     -------------------                      1.9/3.8 MB 6.6 MB/s eta 0:00:01\n",
      "     ----------------------                   2.2/3.8 MB 6.6 MB/s eta 0:00:01\n",
      "     -------------------------                2.5/3.8 MB 6.5 MB/s eta 0:00:01\n",
      "     -----------------------------            2.8/3.8 MB 6.6 MB/s eta 0:00:01\n",
      "     ---------------------------------        3.2/3.8 MB 6.8 MB/s eta 0:00:01\n",
      "     -------------------------------------    3.5/3.8 MB 6.8 MB/s eta 0:00:01\n",
      "     ---------------------------------------  3.8/3.8 MB 6.9 MB/s eta 0:00:01\n",
      "     ---------------------------------------- 3.8/3.8 MB 6.4 MB/s eta 0:00:00\n",
      "Collecting PyQt5-sip<13,>=12.13 (from pyqt5)\n",
      "  Downloading PyQt5_sip-12.13.0-cp310-cp310-win_amd64.whl (78 kB)\n",
      "                                              0.0/78.5 kB ? eta -:--:--\n",
      "     ---------------------------------------- 78.5/78.5 kB 4.3 MB/s eta 0:00:00\n",
      "Collecting PyQt5-Qt5>=5.15.2 (from pyqt5)\n",
      "  Downloading PyQt5_Qt5-5.15.2-py3-none-win_amd64.whl (50.1 MB)\n",
      "                                              0.0/50.1 MB ? eta -:--:--\n",
      "                                              0.4/50.1 MB 11.6 MB/s eta 0:00:05\n",
      "                                              0.8/50.1 MB 10.0 MB/s eta 0:00:05\n",
      "                                              1.1/50.1 MB 9.1 MB/s eta 0:00:06\n",
      "     -                                        1.5/50.1 MB 8.9 MB/s eta 0:00:06\n",
      "     -                                        1.9/50.1 MB 8.7 MB/s eta 0:00:06\n",
      "     -                                        2.3/50.1 MB 8.5 MB/s eta 0:00:06\n",
      "     --                                       2.6/50.1 MB 8.2 MB/s eta 0:00:06\n",
      "     --                                       3.0/50.1 MB 8.2 MB/s eta 0:00:06\n",
      "     --                                       3.4/50.1 MB 8.3 MB/s eta 0:00:06\n",
      "     --                                       3.7/50.1 MB 8.2 MB/s eta 0:00:06\n",
      "     ---                                      4.0/50.1 MB 8.1 MB/s eta 0:00:06\n",
      "     ---                                      4.3/50.1 MB 8.0 MB/s eta 0:00:06\n",
      "     ---                                      4.4/50.1 MB 7.5 MB/s eta 0:00:07\n",
      "     ---                                      4.6/50.1 MB 7.4 MB/s eta 0:00:07\n",
      "     ---                                      4.9/50.1 MB 7.1 MB/s eta 0:00:07\n",
      "     ----                                     5.2/50.1 MB 7.0 MB/s eta 0:00:07\n",
      "     ----                                     5.6/50.1 MB 7.1 MB/s eta 0:00:07\n",
      "     ----                                     5.9/50.1 MB 7.1 MB/s eta 0:00:07\n",
      "     ----                                     6.2/50.1 MB 7.1 MB/s eta 0:00:07\n",
      "     -----                                    6.5/50.1 MB 7.0 MB/s eta 0:00:07\n",
      "     -----                                    6.9/50.1 MB 7.1 MB/s eta 0:00:07\n",
      "     -----                                    7.2/50.1 MB 7.0 MB/s eta 0:00:07\n",
      "     ------                                   7.5/50.1 MB 7.1 MB/s eta 0:00:07\n",
      "     ------                                   7.9/50.1 MB 7.1 MB/s eta 0:00:06\n",
      "     ------                                   8.2/50.1 MB 7.1 MB/s eta 0:00:06\n",
      "     ------                                   8.6/50.1 MB 7.1 MB/s eta 0:00:06\n",
      "     -------                                  8.8/50.1 MB 7.1 MB/s eta 0:00:06\n",
      "     -------                                  9.2/50.1 MB 7.1 MB/s eta 0:00:06\n",
      "     -------                                  9.5/50.1 MB 7.1 MB/s eta 0:00:06\n",
      "     -------                                  9.9/50.1 MB 7.1 MB/s eta 0:00:06\n",
      "     --------                                 10.3/50.1 MB 7.1 MB/s eta 0:00:06\n",
      "     --------                                 10.7/50.1 MB 7.2 MB/s eta 0:00:06\n",
      "     --------                                 11.0/50.1 MB 7.1 MB/s eta 0:00:06\n",
      "     ---------                                11.4/50.1 MB 7.0 MB/s eta 0:00:06\n",
      "     ---------                                11.8/50.1 MB 7.1 MB/s eta 0:00:06\n",
      "     ---------                                12.1/50.1 MB 7.0 MB/s eta 0:00:06\n",
      "     ---------                                12.4/50.1 MB 7.0 MB/s eta 0:00:06\n",
      "     ----------                               12.8/50.1 MB 7.0 MB/s eta 0:00:06\n",
      "     ----------                               13.4/50.1 MB 7.0 MB/s eta 0:00:06\n",
      "     -----------                              13.9/50.1 MB 7.1 MB/s eta 0:00:06\n",
      "     -----------                              14.2/50.1 MB 7.0 MB/s eta 0:00:06\n",
      "     -----------                              14.6/50.1 MB 7.2 MB/s eta 0:00:05\n",
      "     -----------                              14.9/50.1 MB 7.4 MB/s eta 0:00:05\n",
      "     ------------                             15.3/50.1 MB 7.4 MB/s eta 0:00:05\n",
      "     ------------                             15.7/50.1 MB 7.5 MB/s eta 0:00:05\n",
      "     ------------                             16.1/50.1 MB 7.6 MB/s eta 0:00:05\n",
      "     -------------                            16.4/50.1 MB 7.5 MB/s eta 0:00:05\n",
      "     -------------                            16.8/50.1 MB 7.5 MB/s eta 0:00:05\n",
      "     -------------                            17.2/50.1 MB 7.7 MB/s eta 0:00:05\n",
      "     --------------                           17.5/50.1 MB 7.7 MB/s eta 0:00:05\n",
      "     --------------                           18.0/50.1 MB 7.7 MB/s eta 0:00:05\n",
      "     --------------                           18.2/50.1 MB 7.8 MB/s eta 0:00:05\n",
      "     --------------                           18.6/50.1 MB 7.7 MB/s eta 0:00:05\n",
      "     ---------------                          19.2/50.1 MB 7.9 MB/s eta 0:00:04\n",
      "     ---------------                          19.6/50.1 MB 8.0 MB/s eta 0:00:04\n",
      "     ----------------                         20.1/50.1 MB 8.0 MB/s eta 0:00:04\n",
      "     ----------------                         20.5/50.1 MB 8.1 MB/s eta 0:00:04\n",
      "     ----------------                         20.9/50.1 MB 8.0 MB/s eta 0:00:04\n",
      "     ----------------                         21.2/50.1 MB 8.0 MB/s eta 0:00:04\n",
      "     -----------------                        21.7/50.1 MB 8.1 MB/s eta 0:00:04\n",
      "     -----------------                        22.1/50.1 MB 8.1 MB/s eta 0:00:04\n",
      "     -----------------                        22.5/50.1 MB 8.2 MB/s eta 0:00:04\n",
      "     ------------------                       22.8/50.1 MB 8.3 MB/s eta 0:00:04\n",
      "     ------------------                       23.2/50.1 MB 8.2 MB/s eta 0:00:04\n",
      "     ------------------                       23.7/50.1 MB 8.3 MB/s eta 0:00:04\n",
      "     -------------------                      24.1/50.1 MB 8.3 MB/s eta 0:00:04\n",
      "     -------------------                      24.4/50.1 MB 8.4 MB/s eta 0:00:04\n",
      "     -------------------                      24.8/50.1 MB 8.3 MB/s eta 0:00:04\n",
      "     --------------------                     25.2/50.1 MB 8.4 MB/s eta 0:00:03\n",
      "     --------------------                     25.7/50.1 MB 8.5 MB/s eta 0:00:03\n",
      "     --------------------                     26.2/50.1 MB 8.4 MB/s eta 0:00:03\n",
      "     ---------------------                    26.8/50.1 MB 8.6 MB/s eta 0:00:03\n",
      "     ---------------------                    27.2/50.1 MB 8.5 MB/s eta 0:00:03\n",
      "     ---------------------                    27.5/50.1 MB 8.4 MB/s eta 0:00:03\n",
      "     ----------------------                   27.8/50.1 MB 8.3 MB/s eta 0:00:03\n",
      "     ----------------------                   28.1/50.1 MB 8.3 MB/s eta 0:00:03\n",
      "     ----------------------                   28.5/50.1 MB 8.4 MB/s eta 0:00:03\n",
      "     -----------------------                  28.9/50.1 MB 8.4 MB/s eta 0:00:03\n",
      "     -----------------------                  29.3/50.1 MB 8.4 MB/s eta 0:00:03\n",
      "     -----------------------                  29.7/50.1 MB 8.3 MB/s eta 0:00:03\n",
      "     -----------------------                  30.0/50.1 MB 8.2 MB/s eta 0:00:03\n",
      "     ------------------------                 30.3/50.1 MB 8.2 MB/s eta 0:00:03\n",
      "     ------------------------                 30.8/50.1 MB 8.2 MB/s eta 0:00:03\n",
      "     ------------------------                 31.2/50.1 MB 8.2 MB/s eta 0:00:03\n",
      "     -------------------------                31.7/50.1 MB 8.3 MB/s eta 0:00:03\n",
      "     -------------------------                32.0/50.1 MB 8.3 MB/s eta 0:00:03\n",
      "     -------------------------                32.1/50.1 MB 8.0 MB/s eta 0:00:03\n",
      "     --------------------------               32.6/50.1 MB 8.0 MB/s eta 0:00:03\n",
      "     --------------------------               32.9/50.1 MB 8.0 MB/s eta 0:00:03\n",
      "     --------------------------               33.3/50.1 MB 7.9 MB/s eta 0:00:03\n",
      "     --------------------------               33.8/50.1 MB 7.9 MB/s eta 0:00:03\n",
      "     ---------------------------              34.2/50.1 MB 8.0 MB/s eta 0:00:02\n",
      "     ---------------------------              34.6/50.1 MB 8.0 MB/s eta 0:00:02\n",
      "     ---------------------------              35.0/50.1 MB 8.0 MB/s eta 0:00:02\n",
      "     ----------------------------             35.5/50.1 MB 8.1 MB/s eta 0:00:02\n",
      "     ----------------------------             35.9/50.1 MB 8.0 MB/s eta 0:00:02\n",
      "     ----------------------------             36.2/50.1 MB 7.9 MB/s eta 0:00:02\n",
      "     -----------------------------            36.7/50.1 MB 8.0 MB/s eta 0:00:02\n",
      "     -----------------------------            37.1/50.1 MB 8.0 MB/s eta 0:00:02\n",
      "     -----------------------------            37.4/50.1 MB 8.1 MB/s eta 0:00:02\n",
      "     ------------------------------           37.8/50.1 MB 8.1 MB/s eta 0:00:02\n",
      "     ------------------------------           38.2/50.1 MB 8.2 MB/s eta 0:00:02\n",
      "     ------------------------------           38.5/50.1 MB 8.1 MB/s eta 0:00:02\n",
      "     -------------------------------          38.9/50.1 MB 8.1 MB/s eta 0:00:02\n",
      "     -------------------------------          39.0/50.1 MB 7.9 MB/s eta 0:00:02\n",
      "     -------------------------------          39.5/50.1 MB 8.0 MB/s eta 0:00:02\n",
      "     -------------------------------          39.9/50.1 MB 8.0 MB/s eta 0:00:02\n",
      "     --------------------------------         40.3/50.1 MB 8.1 MB/s eta 0:00:02\n",
      "     --------------------------------         40.8/50.1 MB 8.1 MB/s eta 0:00:02\n",
      "     --------------------------------         41.1/50.1 MB 8.1 MB/s eta 0:00:02\n",
      "     ---------------------------------        41.6/50.1 MB 8.1 MB/s eta 0:00:02\n",
      "     ---------------------------------        41.9/50.1 MB 8.1 MB/s eta 0:00:02\n",
      "     ---------------------------------        42.2/50.1 MB 8.1 MB/s eta 0:00:01\n",
      "     ----------------------------------       42.6/50.1 MB 8.2 MB/s eta 0:00:01\n",
      "     ----------------------------------       43.0/50.1 MB 8.4 MB/s eta 0:00:01\n",
      "     ----------------------------------       43.4/50.1 MB 8.3 MB/s eta 0:00:01\n",
      "     -----------------------------------      43.9/50.1 MB 8.3 MB/s eta 0:00:01\n",
      "     -----------------------------------      44.2/50.1 MB 8.2 MB/s eta 0:00:01\n",
      "     -----------------------------------      44.5/50.1 MB 8.0 MB/s eta 0:00:01\n",
      "     -----------------------------------      44.8/50.1 MB 7.9 MB/s eta 0:00:01\n",
      "     ------------------------------------     45.2/50.1 MB 7.8 MB/s eta 0:00:01\n",
      "     ------------------------------------     45.5/50.1 MB 7.8 MB/s eta 0:00:01\n",
      "     ------------------------------------     45.9/50.1 MB 7.8 MB/s eta 0:00:01\n",
      "     ------------------------------------     46.2/50.1 MB 7.8 MB/s eta 0:00:01\n",
      "     -------------------------------------    46.5/50.1 MB 7.7 MB/s eta 0:00:01\n",
      "     -------------------------------------    46.8/50.1 MB 7.7 MB/s eta 0:00:01\n",
      "     -------------------------------------    47.1/50.1 MB 7.6 MB/s eta 0:00:01\n",
      "     -------------------------------------    47.4/50.1 MB 7.6 MB/s eta 0:00:01\n",
      "     --------------------------------------   47.7/50.1 MB 7.5 MB/s eta 0:00:01\n",
      "     --------------------------------------   48.3/50.1 MB 7.6 MB/s eta 0:00:01\n",
      "     --------------------------------------   48.5/50.1 MB 7.4 MB/s eta 0:00:01\n",
      "     --------------------------------------   48.6/50.1 MB 7.2 MB/s eta 0:00:01\n",
      "     --------------------------------------   48.7/50.1 MB 7.1 MB/s eta 0:00:01\n",
      "     ---------------------------------------  49.1/50.1 MB 7.0 MB/s eta 0:00:01\n",
      "     ---------------------------------------  49.4/50.1 MB 7.1 MB/s eta 0:00:01\n",
      "     ---------------------------------------  49.7/50.1 MB 7.0 MB/s eta 0:00:01\n",
      "     ---------------------------------------  50.0/50.1 MB 7.0 MB/s eta 0:00:01\n",
      "     ---------------------------------------  50.1/50.1 MB 7.0 MB/s eta 0:00:01\n",
      "     ---------------------------------------  50.1/50.1 MB 7.0 MB/s eta 0:00:01\n",
      "     ---------------------------------------  50.1/50.1 MB 7.0 MB/s eta 0:00:01\n",
      "     ---------------------------------------  50.1/50.1 MB 7.0 MB/s eta 0:00:01\n",
      "     ---------------------------------------  50.1/50.1 MB 7.0 MB/s eta 0:00:01\n",
      "     ---------------------------------------  50.1/50.1 MB 7.0 MB/s eta 0:00:01\n",
      "     ---------------------------------------  50.1/50.1 MB 7.0 MB/s eta 0:00:01\n",
      "     ---------------------------------------  50.1/50.1 MB 7.0 MB/s eta 0:00:01\n",
      "     ---------------------------------------  50.1/50.1 MB 7.0 MB/s eta 0:00:01\n",
      "     ---------------------------------------  50.1/50.1 MB 7.0 MB/s eta 0:00:01\n",
      "     ---------------------------------------- 50.1/50.1 MB 5.0 MB/s eta 0:00:00\n",
      "Installing collected packages: PyQt5-Qt5, PyQt5-sip, lxml, pyqt5\n"
     ]
    },
    {
     "name": "stderr",
     "output_type": "stream",
     "text": [
      "WARNING: Ignoring invalid distribution - (c:\\python310\\lib\\site-packages)\n",
      "WARNING: Ignoring invalid distribution -p (c:\\python310\\lib\\site-packages)\n",
      "WARNING: Ignoring invalid distribution -ip (c:\\python310\\lib\\site-packages)\n",
      "WARNING: Ignoring invalid distribution -p (c:\\python310\\lib\\site-packages)\n",
      "WARNING: Ignoring invalid distribution - (c:\\python310\\lib\\site-packages)\n",
      "WARNING: Ignoring invalid distribution -p (c:\\python310\\lib\\site-packages)\n",
      "WARNING: Ignoring invalid distribution -ip (c:\\python310\\lib\\site-packages)\n",
      "WARNING: Ignoring invalid distribution -p (c:\\python310\\lib\\site-packages)\n",
      "  WARNING: Failed to write executable - trying to use .deleteme logic\n",
      "ERROR: Could not install packages due to an OSError: [WinError 2] The system cannot find the file specified: 'C:\\\\Python310\\\\Scripts\\\\pylupdate5.exe' -> 'C:\\\\Python310\\\\Scripts\\\\pylupdate5.exe.deleteme'\n",
      "\n",
      "\n",
      "[notice] A new release of pip is available: 23.1.2 -> 23.3.1\n",
      "[notice] To update, run: python.exe -m pip install --upgrade pip\n"
     ]
    }
   ],
   "source": [
    "!pip install --upgrade pyqt5 lxml"
   ]
  },
  {
   "cell_type": "code",
   "execution_count": 18,
   "metadata": {},
   "outputs": [
    {
     "name": "stdout",
     "output_type": "stream",
     "text": [
      "Package                      Version      Editable project location\n",
      "---------------------------- ------------ -----------------------------------------------------------------\n",
      "absl-py                      2.0.0\n",
      "apache-beam                  2.52.0rc4\n",
      "asttokens                    2.4.0\n",
      "astunparse                   1.6.3\n",
      "avro-python3                 1.10.2\n",
      "backcall                     0.2.0\n",
      "cachetools                   5.3.2\n",
      "certifi                      2023.7.22\n",
      "charset-normalizer           3.3.1\n",
      "chex                         0.1.84\n",
      "colorama                     0.4.6\n",
      "comm                         0.1.4\n",
      "contextlib2                  21.6.0\n",
      "contourpy                    1.1.1\n",
      "cycler                       0.12.1\n",
      "Cython                       3.0.4\n",
      "debugpy                      1.8.0\n",
      "decorator                    5.1.1\n",
      "etils                        1.5.2\n",
      "exceptiongroup               1.1.3\n",
      "executing                    2.0.0\n",
      "flatbuffers                  23.5.26\n",
      "flax                         0.7.5\n",
      "fonttools                    4.43.1\n",
      "fsspec                       2023.10.0\n",
      "gast                         0.4.0\n",
      "gin                          0.1.6\n",
      "gin-config                   0.5.0\n",
      "google-auth                  2.23.3\n",
      "google-auth-oauthlib         0.4.6\n",
      "google-pasta                 0.2.0\n",
      "grpcio                       1.59.0\n",
      "h5py                         3.10.0\n",
      "idna                         3.4\n",
      "importlib-resources          6.1.0\n",
      "ipykernel                    6.25.2\n",
      "ipython                      8.16.1\n",
      "jax                          0.4.19\n",
      "jaxlib                       0.4.19\n",
      "jedi                         0.19.1\n",
      "jupyter_client               8.4.0\n",
      "jupyter_core                 5.4.0\n",
      "keras                        2.10.0\n",
      "Keras-Preprocessing          1.1.2\n",
      "kiwisolver                   1.4.5\n",
      "libclang                     16.0.6\n",
      "lvis                         0.5.3\n",
      "lxml                         4.9.3\n",
      "Markdown                     3.5\n",
      "markdown-it-py               3.0.0\n",
      "MarkupSafe                   2.1.3\n",
      "matplotlib                   3.8.0\n",
      "matplotlib-inline            0.1.6\n",
      "mdurl                        0.1.2\n",
      "ml-dtypes                    0.3.1\n",
      "msgpack                      1.0.7\n",
      "nest-asyncio                 1.5.8\n",
      "numpy                        1.26.1\n",
      "oauthlib                     3.2.2\n",
      "object-detection             0.1\n",
      "opencv-python                4.8.1.78\n",
      "opt-einsum                   3.3.0\n",
      "optax                        0.1.7\n",
      "orbax-checkpoint             0.4.1\n",
      "packaging                    20.9\n",
      "pandas                       2.1.2\n",
      "parso                        0.8.3\n",
      "pickleshare                  0.7.5\n",
      "Pillow                       10.1.0\n",
      "pip                          23.3.1\n",
      "platformdirs                 3.11.0\n",
      "portalocker                  2.8.2\n",
      "prompt-toolkit               3.0.39\n",
      "protobuf                     3.19.6\n",
      "psutil                       5.9.6\n",
      "pure-eval                    0.2.2\n",
      "pyasn1                       0.5.0\n",
      "pyasn1-modules               0.3.0\n",
      "pycocotools                  2.0.7\n",
      "Pygments                     2.16.1\n",
      "pyparsing                    2.4.7\n",
      "PyQt5                        5.15.10\n",
      "PyQt5-Qt5                    5.15.2\n",
      "PyQt5-sip                    12.13.0\n",
      "python-dateutil              2.8.2\n",
      "pytz                         2023.3.post1\n",
      "pywin32                      306\n",
      "PyYAML                       6.0.1\n",
      "pyzmq                        25.1.1\n",
      "regex                        2023.10.3\n",
      "requests                     2.31.0\n",
      "requests-oauthlib            1.3.1\n",
      "rich                         13.6.0\n",
      "rsa                          4.9\n",
      "sacrebleu                    2.2.0\n",
      "scipy                        1.11.3\n",
      "setuptools                   68.2.2\n",
      "six                          1.16.0\n",
      "slim                         0.1          d:\\github\\museum_object_detection\\tensorflow\\models\\research\\slim\n",
      "stack-data                   0.6.3\n",
      "tabulate                     0.9.0\n",
      "tensorboard                  2.10.1\n",
      "tensorboard-data-server      0.6.1\n",
      "tensorboard-plugin-wit       1.8.1\n",
      "tensorflow                   2.10.0\n",
      "tensorflow-estimator         2.10.0\n",
      "tensorflow-gpu               2.10.0\n",
      "tensorflow-hub               0.12.0\n",
      "tensorflow-intel             2.14.0\n",
      "tensorflow-io                0.31.0\n",
      "tensorflow-io-gcs-filesystem 0.31.0\n",
      "tensorflowjs                 3.21.0\n",
      "tensorstore                  0.1.46\n",
      "termcolor                    2.3.0\n",
      "tf-models-official           2.14.2\n",
      "tf-slim                      1.1.0\n",
      "toolz                        0.12.0\n",
      "tornado                      6.3.3\n",
      "traitlets                    5.11.2\n",
      "typing_extensions            4.8.0\n",
      "tzdata                       2023.3\n",
      "urllib3                      2.0.7\n",
      "wcwidth                      0.2.8\n",
      "Werkzeug                     3.0.1\n",
      "wget                         3.2\n",
      "wheel                        0.41.2\n",
      "wrapt                        1.14.1\n",
      "zipp                         3.17.0\n",
      "Note: you may need to restart the kernel to use updated packages.\n"
     ]
    }
   ],
   "source": [
    "pip list"
   ]
  },
  {
   "cell_type": "code",
   "execution_count": 19,
   "metadata": {},
   "outputs": [],
   "source": [
    "LABELIMG_PATH = os.path.join('Tensorflow', 'labelimg')"
   ]
  },
  {
   "cell_type": "code",
   "execution_count": 20,
   "metadata": {},
   "outputs": [],
   "source": [
    "if not os.path.exists(LABELIMG_PATH):\n",
    "    !mkdir {LABELIMG_PATH}\n",
    "    !git clone https://github.com/tzutalin/labelImg {LABELIMG_PATH}"
   ]
  },
  {
   "cell_type": "code",
   "execution_count": null,
   "metadata": {},
   "outputs": [],
   "source": [
    "if os.name == 'posix':\n",
    "    !make qt5py3\n",
    "if os.name =='nt':\n",
    "    !cd {LABELIMG_PATH} && pyrcc5 -o libs/resources.py resources.qrc"
   ]
  },
  {
   "cell_type": "code",
   "execution_count": null,
   "metadata": {},
   "outputs": [],
   "source": [
    "!cd {LABELIMG_PATH} && python labelImg.py"
   ]
  },
  {
   "cell_type": "markdown",
   "metadata": {},
   "source": [
    "# 6. Move them into a Training and Testing Partition"
   ]
  },
  {
   "cell_type": "markdown",
   "metadata": {},
   "source": [
    "# OPTIONAL - 7. Compress them for Colab Training"
   ]
  },
  {
   "cell_type": "code",
   "execution_count": 4,
   "metadata": {},
   "outputs": [],
   "source": [
    "TRAIN_PATH = os.path.join('Tensorflow', 'workspace', 'images', 'train')\n",
    "TEST_PATH = os.path.join('Tensorflow', 'workspace', 'images', 'test')\n",
    "ARCHIVE_PATH = os.path.join('Tensorflow', 'workspace', 'images', 'archive.tar.gz')"
   ]
  },
  {
   "cell_type": "code",
   "execution_count": 6,
   "metadata": {},
   "outputs": [],
   "source": [
    "!tar -czf {ARCHIVE_PATH} {TRAIN_PATH} {TEST_PATH}"
   ]
  },
  {
   "cell_type": "code",
   "execution_count": null,
   "metadata": {},
   "outputs": [],
   "source": []
  }
 ],
 "metadata": {
  "kernelspec": {
   "display_name": "tfod",
   "language": "python",
   "name": "tfod"
  },
  "language_info": {
   "codemirror_mode": {
    "name": "ipython",
    "version": 3
   },
   "file_extension": ".py",
   "mimetype": "text/x-python",
   "name": "python",
   "nbconvert_exporter": "python",
   "pygments_lexer": "ipython3",
   "version": "3.10.0"
  }
 },
 "nbformat": 4,
 "nbformat_minor": 2
}
